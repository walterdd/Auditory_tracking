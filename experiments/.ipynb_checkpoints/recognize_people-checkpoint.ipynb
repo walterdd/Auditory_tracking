{
 "cells": [
  {
   "cell_type": "code",
   "execution_count": 8,
   "metadata": {
    "collapsed": true
   },
   "outputs": [],
   "source": [
    "import pandas as pd\n",
    "import os\n",
    "import numpy as np\n",
    "import matplotlib.pyplot as plt\n",
    "%matplotlib inline\n",
    "import sys\n",
    "\n",
    "caffe_root = 'caffe/'\n",
    "sys.path.insert(0, caffe_root + 'python')\n",
    "import caffe"
   ]
  },
  {
   "cell_type": "code",
   "execution_count": 49,
   "metadata": {
    "collapsed": false
   },
   "outputs": [],
   "source": [
    "# some magic with DF\n",
    "inp_data = pd.DataFrame.from_csv('faces.csv')\n",
    "idx = np.array([i for i in xrange(inp_data.shape[0])])\n",
    "inp_data['idx'] = idx\n",
    "inp_data['frame'] = inp_data.index\n",
    "data = inp_data.set_index('idx')\n",
    "data['age'] = np.zeros(data.shape[0])\n",
    "data['gender'] = np.zeros(data.shape[0])\n",
    "data = data.head(5) # ибо очень долго считает, потом надо на всем норм попредиктить"
   ]
  },
  {
   "cell_type": "code",
   "execution_count": 50,
   "metadata": {
    "collapsed": false
   },
   "outputs": [],
   "source": [
    "def make_im_name(frame, person_id):\n",
    "    return \"frame%dperson%d.jpg\" % (frame, person_id)"
   ]
  },
  {
   "cell_type": "code",
   "execution_count": 51,
   "metadata": {
    "collapsed": false
   },
   "outputs": [],
   "source": [
    "age_net_pretrained='./caffe_models/dex_imdb_wiki.caffemodel'\n",
    "age_net_model_file='./caffe_models/age.prototxt'\n",
    "age_net = caffe.Classifier(age_net_model_file, age_net_pretrained,\n",
    "                       channel_swap=(2,1,0),\n",
    "                       raw_scale=255,\n",
    "                       image_dims=(256, 256))\n",
    "\n",
    "gender_net_pretrained='./caffe_models/gender.caffemodel'\n",
    "gender_net_model_file='./caffe_models/gender.prototxt'\n",
    "gender_net = caffe.Classifier(gender_net_model_file, gender_net_pretrained,\n",
    "                       channel_swap=(2,1,0),\n",
    "                       raw_scale=255,\n",
    "                       image_dims=(256, 256))"
   ]
  },
  {
   "cell_type": "code",
   "execution_count": 53,
   "metadata": {
    "collapsed": false
   },
   "outputs": [],
   "source": [
    "age_list= [x for x in range(101)]\n",
    "gender_list = ['Female', 'Male']\n",
    "\n",
    "for i in data.index:\n",
    "    input_image = caffe.io.load_image('./faces/' + make_im_name(data['frame'][i], data['person_id'][i]))\n",
    "    data['age'][i] = age_net.predict([input_image])[0].argmax()\n",
    "    data['gender'][i] = gender_list[gender_net.predict([input_image])[0].argmax()]"
   ]
  },
  {
   "cell_type": "code",
   "execution_count": 54,
   "metadata": {
    "collapsed": false
   },
   "outputs": [
    {
     "data": {
      "text/html": [
       "<div style=\"max-height:1000px;max-width:1500px;overflow:auto;\">\n",
       "<table border=\"1\" class=\"dataframe\">\n",
       "  <thead>\n",
       "    <tr style=\"text-align: right;\">\n",
       "      <th></th>\n",
       "      <th>person_id</th>\n",
       "      <th>x</th>\n",
       "      <th>y</th>\n",
       "      <th>w</th>\n",
       "      <th>h</th>\n",
       "      <th>frame</th>\n",
       "      <th>age</th>\n",
       "      <th>gender</th>\n",
       "    </tr>\n",
       "    <tr>\n",
       "      <th>idx</th>\n",
       "      <th></th>\n",
       "      <th></th>\n",
       "      <th></th>\n",
       "      <th></th>\n",
       "      <th></th>\n",
       "      <th></th>\n",
       "      <th></th>\n",
       "      <th></th>\n",
       "    </tr>\n",
       "  </thead>\n",
       "  <tbody>\n",
       "    <tr>\n",
       "      <th>0</th>\n",
       "      <td> 1</td>\n",
       "      <td> 581</td>\n",
       "      <td>  35</td>\n",
       "      <td> 117</td>\n",
       "      <td> 117</td>\n",
       "      <td> 0</td>\n",
       "      <td> 39</td>\n",
       "      <td> Male</td>\n",
       "    </tr>\n",
       "    <tr>\n",
       "      <th>1</th>\n",
       "      <td> 2</td>\n",
       "      <td> 123</td>\n",
       "      <td> 101</td>\n",
       "      <td> 118</td>\n",
       "      <td> 118</td>\n",
       "      <td> 0</td>\n",
       "      <td> 53</td>\n",
       "      <td> Male</td>\n",
       "    </tr>\n",
       "    <tr>\n",
       "      <th>2</th>\n",
       "      <td> 1</td>\n",
       "      <td> 582</td>\n",
       "      <td>  34</td>\n",
       "      <td> 118</td>\n",
       "      <td> 118</td>\n",
       "      <td> 1</td>\n",
       "      <td> 37</td>\n",
       "      <td> Male</td>\n",
       "    </tr>\n",
       "    <tr>\n",
       "      <th>3</th>\n",
       "      <td> 2</td>\n",
       "      <td> 122</td>\n",
       "      <td> 101</td>\n",
       "      <td> 119</td>\n",
       "      <td> 119</td>\n",
       "      <td> 1</td>\n",
       "      <td> 48</td>\n",
       "      <td> Male</td>\n",
       "    </tr>\n",
       "    <tr>\n",
       "      <th>4</th>\n",
       "      <td> 1</td>\n",
       "      <td> 582</td>\n",
       "      <td>  31</td>\n",
       "      <td> 123</td>\n",
       "      <td> 123</td>\n",
       "      <td> 2</td>\n",
       "      <td> 37</td>\n",
       "      <td> Male</td>\n",
       "    </tr>\n",
       "  </tbody>\n",
       "</table>\n",
       "<p>5 rows × 8 columns</p>\n",
       "</div>"
      ],
      "text/plain": [
       "     person_id    x    y    w    h  frame  age gender\n",
       "idx                                                  \n",
       "0            1  581   35  117  117      0   39   Male\n",
       "1            2  123  101  118  118      0   53   Male\n",
       "2            1  582   34  118  118      1   37   Male\n",
       "3            2  122  101  119  119      1   48   Male\n",
       "4            1  582   31  123  123      2   37   Male\n",
       "\n",
       "[5 rows x 8 columns]"
      ]
     },
     "execution_count": 54,
     "metadata": {},
     "output_type": "execute_result"
    }
   ],
   "source": [
    "data"
   ]
  },
  {
   "cell_type": "code",
   "execution_count": 55,
   "metadata": {
    "collapsed": true
   },
   "outputs": [],
   "source": [
    "data.to_csv('recognized.csv')"
   ]
  }
 ],
 "metadata": {
  "kernelspec": {
   "display_name": "Python 2",
   "language": "python",
   "name": "python2"
  },
  "language_info": {
   "codemirror_mode": {
    "name": "ipython",
    "version": 2
   },
   "file_extension": ".py",
   "mimetype": "text/x-python",
   "name": "python",
   "nbconvert_exporter": "python",
   "pygments_lexer": "ipython2",
   "version": "2.7.11"
  }
 },
 "nbformat": 4,
 "nbformat_minor": 1
}
